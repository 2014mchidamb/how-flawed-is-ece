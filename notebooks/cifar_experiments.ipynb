{
 "cells": [
  {
   "cell_type": "markdown",
   "id": "77059357-38fc-461d-a2ac-7646e1f598e6",
   "metadata": {},
   "source": [
    "## Setup"
   ]
  },
  {
   "cell_type": "code",
   "execution_count": null,
   "id": "a40df8e2-edcf-44fd-985c-06e253a4e867",
   "metadata": {},
   "outputs": [],
   "source": [
    "import os\n",
    "import pickle\n",
    "import random\n",
    "import sys\n",
    "\n",
    "import numpy as np\n",
    "import timm\n",
    "import torch\n",
    "import torchvision\n",
    "\n",
    "sys.path.append(\"[PATH TO PROJECT DIRECTORY]\")\n",
    "\n",
    "from utils.data_utils import load_cifar10, load_cifar100\n",
    "from utils.ece_utils import *\n",
    "from utils.eval_utils import *\n",
    "from utils.noise_utils import *\n",
    "from utils.plotting_utils import *"
   ]
  },
  {
   "cell_type": "code",
   "execution_count": null,
   "id": "0e59bf58-aac0-4dc1-90df-912f36c31ee1",
   "metadata": {},
   "outputs": [],
   "source": [
    "device = torch.device(\"cuda:0\" if torch.cuda.is_available() else \"cpu\")\n",
    "if device != \"cpu\":\n",
    "    print(\"Device count: \", torch.cuda.device_count())\n",
    "    print(\"GPU being used: {}\".format(torch.cuda.get_device_name(0)))"
   ]
  },
  {
   "cell_type": "code",
   "execution_count": null,
   "id": "8b5f09a0-85ab-4423-923f-2969cf1704c7",
   "metadata": {},
   "outputs": [],
   "source": [
    "seed = 42\n",
    "random.seed(seed)\n",
    "torch.manual_seed(seed)\n",
    "np.random.seed(seed)"
   ]
  },
  {
   "cell_type": "markdown",
   "id": "682151a7-fe10-430f-a793-c1c6134dc170",
   "metadata": {},
   "source": [
    "## Synthetic Experiments"
   ]
  },
  {
   "cell_type": "markdown",
   "id": "31ac1600-56cf-482c-b724-cc4607d9be73",
   "metadata": {},
   "source": [
    "### Data Setup"
   ]
  },
  {
   "cell_type": "code",
   "execution_count": null,
   "id": "6192f5c3-de6d-40f5-a993-db6be50563a8",
   "metadata": {},
   "outputs": [],
   "source": [
    "# The data is -0.5 if label is 0 and 0.5 if label is 1.\n",
    "def generate_synthetic(n_sample=1000):\n",
    "    labels = torch.rand(n_sample, 1).round()\n",
    "    data = labels - 0.5\n",
    "    return data, labels"
   ]
  },
  {
   "cell_type": "code",
   "execution_count": null,
   "id": "d91324fb-0d8a-4c07-b984-084ac25777f7",
   "metadata": {},
   "outputs": [],
   "source": [
    "n_sample = 1000\n",
    "data, labels = generate_synthetic(n_sample)"
   ]
  },
  {
   "cell_type": "code",
   "execution_count": null,
   "id": "8298a87d-2724-4508-b1fb-d1f1e0fc0a4b",
   "metadata": {},
   "outputs": [],
   "source": [
    "model = torch.nn.Linear(1, 1, bias=False)\n",
    "model.weight.data[0, 0] = 1e-3"
   ]
  },
  {
   "cell_type": "code",
   "execution_count": null,
   "id": "b6702b0d-bf2f-4dbe-b28e-6f9d043df73b",
   "metadata": {},
   "outputs": [],
   "source": [
    "model_probs = torch.nn.functional.sigmoid(model(data))"
   ]
  },
  {
   "cell_type": "code",
   "execution_count": null,
   "id": "90dc42a6-4d93-4b9b-8159-4dd945468365",
   "metadata": {},
   "outputs": [],
   "source": [
    "# Sanity checks.\n",
    "print(\"Accuracy: \", (model_probs.round() == labels).sum() / len(labels))\n",
    "print(\"Max pred: \", model_probs.max())\n",
    "print(\"Min pred: \", model_probs.min())"
   ]
  },
  {
   "cell_type": "markdown",
   "id": "be646ffe-11f7-4ceb-a520-ac9c5e1b13b5",
   "metadata": {},
   "source": [
    "### ECE Evals"
   ]
  },
  {
   "cell_type": "code",
   "execution_count": null,
   "id": "93a9d9be-8684-4ace-970b-8aa049d5d252",
   "metadata": {},
   "outputs": [],
   "source": [
    "from netcal.metrics import ECE"
   ]
  },
  {
   "cell_type": "code",
   "execution_count": null,
   "id": "5e868e3b-d278-45fc-94c1-1f458d6f4556",
   "metadata": {},
   "outputs": [],
   "source": [
    "bin_range = list(range(1, 101))\n",
    "n_t = 10000"
   ]
  },
  {
   "cell_type": "code",
   "execution_count": null,
   "id": "eb4e370d-66e7-4292-b85f-ca2fa6a70a41",
   "metadata": {},
   "outputs": [],
   "source": [
    "bin_eces, ls_eces = [], []\n",
    "for bin_size in bin_range:\n",
    "    # LS-ECE.\n",
    "    logits = model(data).detach()\n",
    "    noise = GaussianNoise(sigma=1/bin_size)\n",
    "    ls_eces.append(100 * logit_smoothed_ece(logits, labels, n_t, noise))\n",
    "    \n",
    "    # Binned ECE.\n",
    "    preds = torch.nn.functional.sigmoid(logits).reshape(-1).numpy()\n",
    "    ece = ECE(bin_size)\n",
    "    bin_eces.append(100 * ece.measure(preds, labels.reshape(-1).numpy()))"
   ]
  },
  {
   "cell_type": "code",
   "execution_count": null,
   "id": "c84caf47-e11d-4490-9bef-e55b9daad460",
   "metadata": {},
   "outputs": [],
   "source": [
    "plot_multi_dataset_metrics(\n",
    "    fname=\"synth_experiments.png\",\n",
    "    x_label=r\"Bin Size ($1/\\sigma$)\", \n",
    "    y_label=\"ECE Value (%)\", \n",
    "    xs=bin_range, \n",
    "    metric_means=[bin_eces, ls_eces], \n",
    "    metric_stds=None, \n",
    "    datasets=[\"Binned ECE\", \"LS-ECE\"])"
   ]
  },
  {
   "cell_type": "markdown",
   "id": "e19bec56-87a8-4cff-b14c-13c5fef216de",
   "metadata": {},
   "source": [
    "## Pretrained Models"
   ]
  },
  {
   "cell_type": "markdown",
   "id": "a6015618-7e7f-428f-85eb-c4bb7a61e74d",
   "metadata": {},
   "source": [
    "### Data Setup"
   ]
  },
  {
   "cell_type": "code",
   "execution_count": null,
   "id": "02d4c74a-5465-4263-9980-123ea8869565",
   "metadata": {},
   "outputs": [],
   "source": [
    "_, cifar10_test = load_cifar10()\n",
    "cifar10_loader = torch.utils.data.DataLoader(cifar10_test, batch_size=500, shuffle=False)"
   ]
  },
  {
   "cell_type": "code",
   "execution_count": null,
   "id": "9ccfc03c-8c8b-42bf-a7d4-686570d26d63",
   "metadata": {},
   "outputs": [],
   "source": [
    "_, cifar100_test = load_cifar100()\n",
    "cifar100_loader = torch.utils.data.DataLoader(cifar10_test, batch_size=500, shuffle=False)"
   ]
  },
  {
   "cell_type": "markdown",
   "id": "c52292e4-c319-441e-8dc0-91bffdfab6c6",
   "metadata": {},
   "source": [
    "### Evaluation"
   ]
  },
  {
   "cell_type": "code",
   "execution_count": null,
   "id": "0a7c3794-dabe-46ec-8eab-a389891358ae",
   "metadata": {},
   "outputs": [],
   "source": [
    "def eval_models(model_names, loader, bin_var_range, device=\"cpu\"):\n",
    "    model_bin_eces, model_ls_eces = [], []\n",
    "    for model_name in model_names:\n",
    "        model = torch.hub.load(\"chenyaofo/pytorch-cifar-models\", model_name, pretrained=True).to(device)\n",
    "\n",
    "        softmaxes, labels = get_softmax_and_labels(model, loader, device)\n",
    "        bin_eces = []\n",
    "        for bin_size in bin_var_range:\n",
    "            ece = ECE(bin_size)\n",
    "            bin_eces.append(100 * ece.measure(softmaxes, labels))\n",
    "\n",
    "        logits, labels = get_binary_logits_and_labels(model, cifar10_loader, device)\n",
    "        ls_eces = []\n",
    "        for bin_size in bin_var_range:\n",
    "            noise = GaussianNoise(sigma=1/bin_size)\n",
    "            ls_eces.append(100 * logit_smoothed_ece(logits, labels, n_t, noise))\n",
    "\n",
    "        model_bin_eces.append(bin_eces)\n",
    "        model_ls_eces.append(ls_eces)\n",
    "        \n",
    "    return model_bin_eces, model_ls_eces"
   ]
  },
  {
   "cell_type": "code",
   "execution_count": null,
   "id": "ee612d01-d0a3-4722-9012-f6d48943ca73",
   "metadata": {},
   "outputs": [],
   "source": [
    "cifar10_models = [\"cifar10_resnet32\", \"cifar10_vgg16_bn\", \"cifar10_mobilenetv2_x1_4\"]\n",
    "cifar100_models = [\"cifar10_resnet32\", \"cifar10_vgg16_bn\", \"cifar10_mobilenetv2_x1_4\"]\n",
    "datasets = [\"ResNet-32 (Bin)\", \"VGG-16 (Bin)\", \"MobileNet V2 (Bin)\", \"ResNet-32 (LS)\", \"VGG-16 (LS)\", \"MobileNet V2 (LS)\"]"
   ]
  },
  {
   "cell_type": "code",
   "execution_count": null,
   "id": "8476748f-54e2-432a-9c79-90f4e73369ea",
   "metadata": {},
   "outputs": [],
   "source": [
    "bin_var_range = list(range(0, 101, 10))\n",
    "bin_var_range[0] = 1"
   ]
  },
  {
   "cell_type": "code",
   "execution_count": null,
   "id": "7273d102-f2e5-47d6-948c-805a4e75a069",
   "metadata": {},
   "outputs": [],
   "source": [
    "cifar10_bin_eces, cifar10_ls_eces = eval_models(cifar10_models, cifar10_loader, bin_var_range, device=device)"
   ]
  },
  {
   "cell_type": "code",
   "execution_count": null,
   "id": "8c27214d-b0ab-4136-8a24-7514dcf8b4a1",
   "metadata": {},
   "outputs": [],
   "source": [
    "plot_multi_dataset_metrics(\n",
    "    fname=\"cifar10_eval.png\",\n",
    "    x_label=r\"Bin Size ($1/\\sigma$)\", \n",
    "    y_label=\"ECE Value (%)\", \n",
    "    xs=bin_var_range, \n",
    "    metric_means=cifar10_bin_eces + cifar10_ls_eces, \n",
    "    metric_stds=None, \n",
    "    datasets=datasets,\n",
    "    custom_colors=[\"C0\", \"C1\", \"C2\", \"C0\", \"C1\", \"C2\"],\n",
    "    custom_lines=[\"solid\", \"solid\", \"solid\", \"dashed\", \"dashed\", \"dashed\"],\n",
    ")"
   ]
  },
  {
   "cell_type": "code",
   "execution_count": null,
   "id": "19722e2a-19e7-4750-97a7-4206c817cd88",
   "metadata": {},
   "outputs": [],
   "source": [
    "cifar100_bin_eces, cifar100_ls_eces = eval_models(cifar100_models, cifar100_loader, bin_var_range, device=device)"
   ]
  },
  {
   "cell_type": "code",
   "execution_count": null,
   "id": "08dfb664-5f7c-41a1-a92d-850c90ddf23a",
   "metadata": {},
   "outputs": [],
   "source": [
    "plot_multi_dataset_metrics(\n",
    "    fname=\"cifar100_eval.png\",\n",
    "    x_label=r\"Bin Size ($1/\\sigma$)\", \n",
    "    y_label=\"ECE Value (%)\", \n",
    "    xs=bin_var_range, \n",
    "    metric_means=cifar100_bin_eces + cifar100_ls_eces, \n",
    "    metric_stds=None, \n",
    "    datasets=datasets,\n",
    "    custom_colors=[\"C0\", \"C1\", \"C2\", \"C0\", \"C1\", \"C2\"],\n",
    "    custom_lines=[\"solid\", \"solid\", \"solid\", \"dashed\", \"dashed\", \"dashed\"],\n",
    ")"
   ]
  }
 ],
 "metadata": {
  "kernelspec": {
   "display_name": "Python 3 (ipykernel)",
   "language": "python",
   "name": "python3"
  },
  "language_info": {
   "codemirror_mode": {
    "name": "ipython",
    "version": 3
   },
   "file_extension": ".py",
   "mimetype": "text/x-python",
   "name": "python",
   "nbconvert_exporter": "python",
   "pygments_lexer": "ipython3",
   "version": "3.10.12"
  }
 },
 "nbformat": 4,
 "nbformat_minor": 5
}
